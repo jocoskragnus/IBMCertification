{
 "cells": [
  {
   "cell_type": "markdown",
   "id": "539a7b05-1eca-4668-8f01-5e16d0b52110",
   "metadata": {},
   "source": [
    "# This is some title"
   ]
  },
  {
   "cell_type": "markdown",
   "id": "b891c149-90ea-491e-80b2-b0fb9c888bb3",
   "metadata": {},
   "source": [
    "This is some introductory sentence."
   ]
  },
  {
   "cell_type": "markdown",
   "id": "2480a22e-e2b8-4af6-b1b9-c6e3c9d5121d",
   "metadata": {},
   "source": [
    "Here are some DS languages: <br />\n",
    ">1. Python <br />\n",
    ">2. Julia <br />\n",
    ">3. R <br />\n",
    ">4. Java <br />\n",
    ">5. SQL <br />\n",
    "\n",
    "and so on..."
   ]
  },
  {
   "cell_type": "markdown",
   "id": "d8f7c6b7-6226-4c43-ab7f-99452543caa7",
   "metadata": {},
   "source": [
    "Here are some DS libraries:\n",
    ">1. ggplot\n",
    ">2. pytorch\n",
    ">3. numpy\n",
    ">4. pandas\n",
    ">5. keras\n",
    "\n",
    "and so many more..."
   ]
  },
  {
   "cell_type": "markdown",
   "id": "bc142a3d-bb50-4b9a-9804-c5f3458ca7bb",
   "metadata": {},
   "source": [
    "Here are some DS tools:\n",
    ">1. SAS\n",
    ">2. Tableau\n",
    ">3. Apache Hadoop\n",
    ">4. TensorFlow\n",
    ">5. BigML"
   ]
  },
  {
   "cell_type": "markdown",
   "id": "798d6096-2fd4-4268-994e-daf278200e7c",
   "metadata": {},
   "source": [
    "Here is an example of arithmetic expression. <br />\n",
    "$ 2 + 3 = 5 $"
   ]
  },
  {
   "cell_type": "code",
   "execution_count": 2,
   "id": "89b4073b-cc65-42ce-92cd-dd779144ab7b",
   "metadata": {},
   "outputs": [
    {
     "name": "stdout",
     "output_type": "stream",
     "text": [
      "Multiplication:  6\n",
      "Addition:  5\n"
     ]
    }
   ],
   "source": [
    "a = 2\n",
    "b = 3\n",
    "print('Multiplication: ', a * b)\n",
    "print('Addition: ', a + b)"
   ]
  },
  {
   "cell_type": "code",
   "execution_count": 3,
   "id": "428159b2-5293-4591-b9e2-f9c03192d0a2",
   "metadata": {},
   "outputs": [
    {
     "name": "stdout",
     "output_type": "stream",
     "text": [
      "Hours to minutes:  120\n"
     ]
    }
   ],
   "source": [
    "a = 2 # hours\n",
    "print('Hours to minutes: ', a * 60)"
   ]
  },
  {
   "cell_type": "markdown",
   "id": "b7a6f632-7751-430e-a2ce-e7ccb116eafd",
   "metadata": {},
   "source": [
    "This is some introductory sentence: unord1, unord2, unord3."
   ]
  },
  {
   "cell_type": "markdown",
   "id": "6b62355a-fac9-420b-a0d6-a3782af016b5",
   "metadata": {},
   "source": [
    "@ Author: Jovan Krunic"
   ]
  },
  {
   "cell_type": "code",
   "execution_count": null,
   "id": "2c8b4fd6-0306-4ade-a6d7-b3e0ff0e4ebe",
   "metadata": {},
   "outputs": [],
   "source": []
  }
 ],
 "metadata": {
  "kernelspec": {
   "display_name": "Python 3 (ipykernel)",
   "language": "python",
   "name": "python3"
  },
  "language_info": {
   "codemirror_mode": {
    "name": "ipython",
    "version": 3
   },
   "file_extension": ".py",
   "mimetype": "text/x-python",
   "name": "python",
   "nbconvert_exporter": "python",
   "pygments_lexer": "ipython3",
   "version": "3.8.12"
  }
 },
 "nbformat": 4,
 "nbformat_minor": 5
}
