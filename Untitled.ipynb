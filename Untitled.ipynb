{
 "cells": [
  {
   "cell_type": "markdown",
   "id": "5fce427f-b0da-42a5-94bb-dc521df1eaca",
   "metadata": {},
   "source": [
    "# Data Science Tools and Ecosystem"
   ]
  },
  {
   "cell_type": "markdown",
   "id": "ca520d2c-41e2-413a-8434-415c6c2667b1",
   "metadata": {},
   "source": [
    "In this notebook, Data Science Tools and Ecosystems are summarized."
   ]
  },
  {
   "cell_type": "markdown",
   "id": "66c12a1e-d537-48b9-b084-bb445ea52302",
   "metadata": {},
   "source": [
    "Some of the popular languages that Data Scientists use are: <br>\n",
    "1. Python\n",
    "2. R\n",
    "3. SQL\n",
    "4. Scala\n",
    "5. Java\n",
    "6. Julia\n",
    "7. C++"
   ]
  },
  {
   "cell_type": "markdown",
   "id": "782b77ee-eebb-417b-a5d6-59e901b40301",
   "metadata": {},
   "source": [
    "Some of the commonly used libraries used by Data Scientists include: <br>\n",
    "1. Pandas\n",
    "2. Numpy\n",
    "3. Matplotlib\n",
    "4. Seaborn\n",
    "5. Keras\n",
    "6. Pytorch"
   ]
  },
  {
   "cell_type": "markdown",
   "id": "8f89415a-760c-46b3-9b26-43fe955b6ba6",
   "metadata": {},
   "source": [
    "| Data Science Tools |\n",
    "| --- |\n",
    "| Anaconda |\n",
    "| Jupyter Notebooks |\n",
    "| R Studio |\n",
    "| Spyder |\n",
    "| Zeppelin |\n"
   ]
  },
  {
   "cell_type": "markdown",
   "id": "d8238fae-3e0c-4381-a359-07744cbac146",
   "metadata": {},
   "source": [
    "<h3> Below are a few examples of evaluating arithmetic expressions in Python"
   ]
  },
  {
   "cell_type": "code",
   "execution_count": 1,
   "id": "d5be4723-6f8e-4f05-ae54-69171258d619",
   "metadata": {},
   "outputs": [
    {
     "name": "stdout",
     "output_type": "stream",
     "text": [
      "Multiplication:  6\n",
      "Addition:  5\n"
     ]
    }
   ],
   "source": [
    "a = 2\n",
    "b = 3\n",
    "print('Multiplication: ', a * b)\n",
    "print('Addition: ', a + b)"
   ]
  },
  {
   "cell_type": "code",
   "execution_count": 2,
   "id": "cba9f0c6-e8f7-42b7-9c8d-90d09cf4878f",
   "metadata": {},
   "outputs": [
    {
     "name": "stdout",
     "output_type": "stream",
     "text": [
      "120\n"
     ]
    }
   ],
   "source": [
    "a = 2\n",
    "print(a * 60)"
   ]
  },
  {
   "cell_type": "markdown",
   "id": "8d4d32f4-9a1f-4f22-919f-91377f1228be",
   "metadata": {},
   "source": [
    "<b> Objectives: </b> <br>\n",
    "- Add coments to code cells\n",
    "- Create markdown cells\n",
    "- Add ordered and unordered lists to markdown cells\n",
    "- Format content of markdown cells with heading style"
   ]
  },
  {
   "cell_type": "markdown",
   "id": "e95a8cf3-c0fc-4141-a40b-190b9769b76f",
   "metadata": {},
   "source": [
    "<h2> Author </h2> \n",
    "Jovan Krunic"
   ]
  },
  {
   "cell_type": "code",
   "execution_count": null,
   "id": "ae18e040-f192-4b2a-b6ac-ed98098a643a",
   "metadata": {},
   "outputs": [],
   "source": []
  }
 ],
 "metadata": {
  "kernelspec": {
   "display_name": "Python 3 (ipykernel)",
   "language": "python",
   "name": "python3"
  },
  "language_info": {
   "codemirror_mode": {
    "name": "ipython",
    "version": 3
   },
   "file_extension": ".py",
   "mimetype": "text/x-python",
   "name": "python",
   "nbconvert_exporter": "python",
   "pygments_lexer": "ipython3",
   "version": "3.8.12"
  }
 },
 "nbformat": 4,
 "nbformat_minor": 5
}
